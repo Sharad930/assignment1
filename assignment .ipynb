{
 "cells": [
  {
   "cell_type": "code",
   "execution_count": null,
   "id": "915a696d-98f2-45a5-a6be-a439624858a8",
   "metadata": {},
   "outputs": [],
   "source": [
    "## Q2. What are variables in Python? How do you declare and assign values to variables?\n",
    "## ans. variables store the values.there are different type of variables in Python\n",
    "##     we assign values by '=' operator.  "
   ]
  },
  {
   "cell_type": "code",
   "execution_count": 1,
   "id": "ac2e67bd-6b84-4416-ac31-304b19d8e700",
   "metadata": {},
   "outputs": [],
   "source": [
    "## Q3. How do you convert one data type to another in Python?\n",
    "## ans. In Python we can use data type as a function\n",
    "##      like str(4) convert to str.\n",
    "##      we can use list,set,str,int,dict,tuple as such way."
   ]
  },
  {
   "cell_type": "code",
   "execution_count": null,
   "id": "f51244b5-164e-46ec-a19f-3b40e03d0aaf",
   "metadata": {},
   "outputs": [],
   "source": [
    "## Q4. How do you write and execute a Python script from the command line?\n",
    "## ans. we write the code by keyboard and executed by shift+enter."
   ]
  },
  {
   "cell_type": "code",
   "execution_count": 3,
   "id": "2a4a8631-3efe-40c1-8834-bfa8c2b50f1d",
   "metadata": {},
   "outputs": [
    {
     "ename": "IndentationError",
     "evalue": "unexpected indent (3512600978.py, line 2)",
     "output_type": "error",
     "traceback": [
      "\u001b[0;36m  Cell \u001b[0;32mIn[3], line 2\u001b[0;36m\u001b[0m\n\u001b[0;31m    my_list = [1,2,3,4,5]\u001b[0m\n\u001b[0m    ^\u001b[0m\n\u001b[0;31mIndentationError\u001b[0m\u001b[0;31m:\u001b[0m unexpected indent\n"
     ]
    }
   ],
   "source": [
    "## Q5. Given a list my_list = [1, 2, 3, 4, 5], write the code to slice the list and obtain the sub-list [2, 3].\n",
    "     my_list = [1,2,3,4,5]\n",
    "     sub_list = list(my_list[1:3])"
   ]
  },
  {
   "cell_type": "code",
   "execution_count": 13,
   "id": "916defab-17d5-45bd-9767-5710ad3f1ff1",
   "metadata": {},
   "outputs": [],
   "source": [
    "my_list = [1,2,3,4,5]\n",
    "sub_list = list(my_list[1:3])"
   ]
  },
  {
   "cell_type": "code",
   "execution_count": 14,
   "id": "544c3e5a-4393-43c9-9352-4bd0bc9f0182",
   "metadata": {},
   "outputs": [
    {
     "data": {
      "text/plain": [
       "[2, 3]"
      ]
     },
     "execution_count": 14,
     "metadata": {},
     "output_type": "execute_result"
    }
   ],
   "source": [
    "sub_list"
   ]
  },
  {
   "cell_type": "code",
   "execution_count": 17,
   "id": "5f5c4fad-ee9b-4865-b810-78883f41b5d1",
   "metadata": {},
   "outputs": [],
   "source": [
    "## Q6. What is a complex number in mathematics, and how is it represented in Python?\n",
    "## let z is complex number and\n",
    "##  z = 2 +3i where i=(-1)**1/2\n",
    "## but in Python \n",
    "z = 2 +3j"
   ]
  },
  {
   "cell_type": "code",
   "execution_count": 18,
   "id": "c86c5915-2145-45de-b2da-bec5fd10b838",
   "metadata": {},
   "outputs": [
    {
     "data": {
      "text/plain": [
       "complex"
      ]
     },
     "execution_count": 18,
     "metadata": {},
     "output_type": "execute_result"
    }
   ],
   "source": [
    "type(z)"
   ]
  },
  {
   "cell_type": "code",
   "execution_count": 19,
   "id": "3e802001-27a3-46b9-afa7-d62b04c8f1de",
   "metadata": {},
   "outputs": [],
   "source": [
    "## Q7. What is the correct way to declare a variable named age and assign the value 25 to it?\n",
    "## ans. \n",
    "age=25"
   ]
  },
  {
   "cell_type": "code",
   "execution_count": 20,
   "id": "62f8d64c-88b7-4fb9-9f43-cbc6cda8b674",
   "metadata": {},
   "outputs": [
    {
     "data": {
      "text/plain": [
       "25"
      ]
     },
     "execution_count": 20,
     "metadata": {},
     "output_type": "execute_result"
    }
   ],
   "source": [
    "age"
   ]
  },
  {
   "cell_type": "code",
   "execution_count": 21,
   "id": "a9eec0d6-d929-44ef-91ac-1bf1b141094d",
   "metadata": {},
   "outputs": [],
   "source": [
    "## Q8. Declare a variable named price and assign the value 9.99 to it. What data type does this variable \n",
    "## belong to?\n",
    "price=9.99"
   ]
  },
  {
   "cell_type": "code",
   "execution_count": 22,
   "id": "f555e249-9ad3-4b2c-9c71-b0d9d90ed273",
   "metadata": {},
   "outputs": [
    {
     "data": {
      "text/plain": [
       "float"
      ]
     },
     "execution_count": 22,
     "metadata": {},
     "output_type": "execute_result"
    }
   ],
   "source": [
    "type(price)"
   ]
  },
  {
   "cell_type": "code",
   "execution_count": 26,
   "id": "82ca444b-0937-4229-ad59-1b8401d32b8b",
   "metadata": {},
   "outputs": [],
   "source": [
    "## Q9. Create a variable named name and assign your full name to it as a string. How would you print the \n",
    "## value of this variable?\n",
    "name = \"sharad rajbhar\""
   ]
  },
  {
   "cell_type": "code",
   "execution_count": 28,
   "id": "57045df9-da78-4590-b7b3-df456eb100d1",
   "metadata": {},
   "outputs": [
    {
     "data": {
      "text/plain": [
       "'sharad rajbhar'"
      ]
     },
     "execution_count": 28,
     "metadata": {},
     "output_type": "execute_result"
    }
   ],
   "source": [
    "name"
   ]
  },
  {
   "cell_type": "code",
   "execution_count": 29,
   "id": "9a0dbaf6-33f9-4513-8552-ade09dd01ed5",
   "metadata": {},
   "outputs": [
    {
     "name": "stdout",
     "output_type": "stream",
     "text": [
      "sharad rajbhar\n"
     ]
    }
   ],
   "source": [
    "print(name)"
   ]
  },
  {
   "cell_type": "code",
   "execution_count": 30,
   "id": "24577787-4108-4ecd-9fe2-78290515fa1b",
   "metadata": {},
   "outputs": [],
   "source": [
    "## Q10. Given the string \"Hello, World!\", extract the substring \"World\".\n",
    "l=\"Hello, World!\""
   ]
  },
  {
   "cell_type": "code",
   "execution_count": 32,
   "id": "f0185e55-7aa1-441a-a6a4-58701918c02a",
   "metadata": {},
   "outputs": [
    {
     "data": {
      "text/plain": [
       "'World'"
      ]
     },
     "execution_count": 32,
     "metadata": {},
     "output_type": "execute_result"
    }
   ],
   "source": [
    "l[-6:-1]"
   ]
  },
  {
   "cell_type": "code",
   "execution_count": 34,
   "id": "64b8a8cd-eb71-4f92-9821-fd935da28ee0",
   "metadata": {},
   "outputs": [],
   "source": [
    "## Q11. Create a variable named \"is_student\" and assign it a boolean value indicating whether you are \n",
    "## currently a student or not.\n",
    "is_student=True"
   ]
  },
  {
   "cell_type": "code",
   "execution_count": 35,
   "id": "0c021bf0-5feb-4651-afdc-bcd023555518",
   "metadata": {},
   "outputs": [
    {
     "data": {
      "text/plain": [
       "True"
      ]
     },
     "execution_count": 35,
     "metadata": {},
     "output_type": "execute_result"
    }
   ],
   "source": [
    "is_student"
   ]
  },
  {
   "cell_type": "code",
   "execution_count": null,
   "id": "bff8f1f9-e17f-479e-a2f6-2aaff63ed6bf",
   "metadata": {},
   "outputs": [],
   "source": [
    "## Q1. How do you comment code in Python? What are the different types of comments?\n",
    "## ans we type '## 'after this we comment in this line.\n",
    "##       there are three type of comment in Python\n",
    "##   (1) single line comment\n",
    "##   (2) multi line comment\n",
    "##   (3) docstring comment"
   ]
  }
 ],
 "metadata": {
  "kernelspec": {
   "display_name": "Python 3 (ipykernel)",
   "language": "python",
   "name": "python3"
  },
  "language_info": {
   "codemirror_mode": {
    "name": "ipython",
    "version": 3
   },
   "file_extension": ".py",
   "mimetype": "text/x-python",
   "name": "python",
   "nbconvert_exporter": "python",
   "pygments_lexer": "ipython3",
   "version": "3.10.8"
  }
 },
 "nbformat": 4,
 "nbformat_minor": 5
}
